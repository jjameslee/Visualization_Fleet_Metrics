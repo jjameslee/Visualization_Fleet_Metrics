{
 "cells": [
  {
   "cell_type": "markdown",
   "metadata": {},
   "source": [
    "* I will import the following libraries for the project:"
   ]
  },
  {
   "cell_type": "code",
   "execution_count": 406,
   "metadata": {},
   "outputs": [],
   "source": [
    "import pandas as pd\n",
    "import numpy as np\n",
    "import matplotlib.pyplot as plt\n",
    "import seaborn as sns\n",
    "from scipy import stats\n",
    "import statsmodels.api as sm\n",
    "from IPython.display import Image\n",
    "from IPython.core.display import HTML \n",
    "\n",
    "DO = '#7D1B7E' #for color\n",
    "\n",
    "%config InlineBackend.figure_format = 'retina'\n",
    "%matplotlib inline\n",
    "\n",
    "plt.style.use('fivethirtyeight')"
   ]
  },
  {
   "cell_type": "markdown",
   "metadata": {},
   "source": [
    "## Data Import\n",
    "* All data is open sourced, and more information can be found here:\n",
    "[AirlineFleet Data](https://www.kaggle.com/traceyvanp/airlinefleet)\n",
    "* This dataset consists of 11 columns with 1,583 rows"
   ]
  },
  {
   "cell_type": "code",
   "execution_count": 407,
   "metadata": {},
   "outputs": [
    {
     "name": "stdout",
     "output_type": "stream",
     "text": [
      "(1583, 11)\n"
     ]
    },
    {
     "data": {
      "text/html": [
       "<div>\n",
       "<style scoped>\n",
       "    .dataframe tbody tr th:only-of-type {\n",
       "        vertical-align: middle;\n",
       "    }\n",
       "\n",
       "    .dataframe tbody tr th {\n",
       "        vertical-align: top;\n",
       "    }\n",
       "\n",
       "    .dataframe thead th {\n",
       "        text-align: right;\n",
       "    }\n",
       "</style>\n",
       "<table border=\"1\" class=\"dataframe\">\n",
       "  <thead>\n",
       "    <tr style=\"text-align: right;\">\n",
       "      <th></th>\n",
       "      <th>Parent Airline</th>\n",
       "      <th>Airline</th>\n",
       "      <th>Aircraft Type</th>\n",
       "      <th>Current</th>\n",
       "      <th>Future</th>\n",
       "      <th>Historic</th>\n",
       "      <th>Total</th>\n",
       "      <th>Orders</th>\n",
       "      <th>Unit Cost</th>\n",
       "      <th>Total Cost (Current)</th>\n",
       "      <th>Average Age</th>\n",
       "    </tr>\n",
       "  </thead>\n",
       "  <tbody>\n",
       "    <tr>\n",
       "      <th>0</th>\n",
       "      <td>Aegean Airlines</td>\n",
       "      <td>Aegean Airlines</td>\n",
       "      <td>Airbus A319</td>\n",
       "      <td>1.0</td>\n",
       "      <td>NaN</td>\n",
       "      <td>3.0</td>\n",
       "      <td>4.0</td>\n",
       "      <td>NaN</td>\n",
       "      <td>$90</td>\n",
       "      <td>$90</td>\n",
       "      <td>11.6</td>\n",
       "    </tr>\n",
       "    <tr>\n",
       "      <th>1</th>\n",
       "      <td>Aegean Airlines</td>\n",
       "      <td>Olympic Air</td>\n",
       "      <td>Airbus A319</td>\n",
       "      <td>NaN</td>\n",
       "      <td>NaN</td>\n",
       "      <td>8.0</td>\n",
       "      <td>8.0</td>\n",
       "      <td>NaN</td>\n",
       "      <td>$90</td>\n",
       "      <td>$0</td>\n",
       "      <td>NaN</td>\n",
       "    </tr>\n",
       "    <tr>\n",
       "      <th>2</th>\n",
       "      <td>Aegean Airlines</td>\n",
       "      <td>Aegean Airlines</td>\n",
       "      <td>Airbus A320</td>\n",
       "      <td>38.0</td>\n",
       "      <td>NaN</td>\n",
       "      <td>3.0</td>\n",
       "      <td>41.0</td>\n",
       "      <td>NaN</td>\n",
       "      <td>$98</td>\n",
       "      <td>$3,724</td>\n",
       "      <td>7.5</td>\n",
       "    </tr>\n",
       "    <tr>\n",
       "      <th>3</th>\n",
       "      <td>Aegean Airlines</td>\n",
       "      <td>Olympic Air</td>\n",
       "      <td>Airbus A320</td>\n",
       "      <td>NaN</td>\n",
       "      <td>NaN</td>\n",
       "      <td>9.0</td>\n",
       "      <td>9.0</td>\n",
       "      <td>NaN</td>\n",
       "      <td>$98</td>\n",
       "      <td>$0</td>\n",
       "      <td>NaN</td>\n",
       "    </tr>\n",
       "    <tr>\n",
       "      <th>4</th>\n",
       "      <td>Aegean Airlines</td>\n",
       "      <td>Aegean Airlines</td>\n",
       "      <td>Airbus A321</td>\n",
       "      <td>8.0</td>\n",
       "      <td>NaN</td>\n",
       "      <td>NaN</td>\n",
       "      <td>8.0</td>\n",
       "      <td>NaN</td>\n",
       "      <td>$115</td>\n",
       "      <td>$919</td>\n",
       "      <td>10.3</td>\n",
       "    </tr>\n",
       "  </tbody>\n",
       "</table>\n",
       "</div>"
      ],
      "text/plain": [
       "    Parent Airline          Airline Aircraft Type  Current  Future  Historic  \\\n",
       "0  Aegean Airlines  Aegean Airlines   Airbus A319      1.0     NaN       3.0   \n",
       "1  Aegean Airlines      Olympic Air   Airbus A319      NaN     NaN       8.0   \n",
       "2  Aegean Airlines  Aegean Airlines   Airbus A320     38.0     NaN       3.0   \n",
       "3  Aegean Airlines      Olympic Air   Airbus A320      NaN     NaN       9.0   \n",
       "4  Aegean Airlines  Aegean Airlines   Airbus A321      8.0     NaN       NaN   \n",
       "\n",
       "   Total  Orders Unit Cost Total Cost (Current)  Average Age  \n",
       "0    4.0     NaN       $90                  $90         11.6  \n",
       "1    8.0     NaN       $90                   $0          NaN  \n",
       "2   41.0     NaN       $98               $3,724          7.5  \n",
       "3    9.0     NaN       $98                   $0          NaN  \n",
       "4    8.0     NaN      $115                 $919         10.3  "
      ]
     },
     "execution_count": 407,
     "metadata": {},
     "output_type": "execute_result"
    }
   ],
   "source": [
    "df = pd.read_csv('./data/fleet_visualization_data_analyst.csv')\n",
    "print(df.shape)\n",
    "df.head()"
   ]
  },
  {
   "cell_type": "markdown",
   "metadata": {},
   "source": [
    "## Data Cleaning"
   ]
  },
  {
   "cell_type": "markdown",
   "metadata": {},
   "source": [
    "* For the sake of simplicity and efficiency, I will change the columns names to all lower-case and also replace the spaces to underscores."
   ]
  },
  {
   "cell_type": "code",
   "execution_count": 408,
   "metadata": {},
   "outputs": [],
   "source": [
    "df.columns = [column.lower().replace(' ', '_') for column in df.columns]\n",
    "df.rename(columns={'total_cost_(current)': 'current_total_cost'}, inplace=True)"
   ]
  },
  {
   "cell_type": "markdown",
   "metadata": {},
   "source": [
    "* Before I proceed further in the data analysis and visualization, I want to check if there are any null/missing values in the dataset. \n",
    "* The columns listed below are all the features that contain null-values. The bar-chart further below represents a graph that visually displays the amount of null-values for each columns."
   ]
  },
  {
   "cell_type": "code",
   "execution_count": 409,
   "metadata": {},
   "outputs": [
    {
     "data": {
      "text/plain": [
       "parent_airline           0\n",
       "airline                  0\n",
       "aircraft_type            0\n",
       "current                724\n",
       "future                1395\n",
       "historic               470\n",
       "total                   99\n",
       "orders                1235\n",
       "unit_cost               35\n",
       "current_total_cost      27\n",
       "average_age            763\n",
       "dtype: int64"
      ]
     },
     "execution_count": 409,
     "metadata": {},
     "output_type": "execute_result"
    }
   ],
   "source": [
    "df.isnull().sum()"
   ]
  },
  {
   "cell_type": "code",
   "execution_count": 410,
   "metadata": {},
   "outputs": [
    {
     "name": "stdout",
     "output_type": "stream",
     "text": [
      "(1583, 11)\n"
     ]
    },
    {
     "data": {
      "image/png": "[encoded data removed]",
      "text/plain": [
       "<Figure size 720x432 with 1 Axes>"
      ]
     },
     "metadata": {
      "image/png": {
       "height": 493,
       "width": 680
      }
     },
     "output_type": "display_data"
    }
   ],
   "source": [
    "print(df.shape)\n",
    "df.isnull().sum().plot('bar', figsize=(10,6));"
   ]
  },
  {
   "cell_type": "markdown",
   "metadata": {},
   "source": [
    "Not only are there huge sum of null-values across many of the columns, but certain features ('future' and 'orders') have signficant missing values. In the case of column 'future', over 88% of its' values are null. I will go through each of the features that have null-values and determine what the best course of action will be. For information on the features and what it represents, I looked to [AirlineFleet Data](https://www.kaggle.com/traceyvanp/airlinefleet). \n",
    "\n",
    "**current:** Quantity of airplanes in Operation\n",
    "* Based on this description, I will assume that the missing values are due to the airlines not having any airplanes in operation. I will replace all the null-values to zero.\n",
    "\n",
    "**future:** Quantity of airplanes on order, from planespotter.net\n",
    "* I will remove this column as +88% of its values are null. This column provides no significant information.\n",
    "\n",
    "**historic:** *Quantity of airplanes in operation in the past?* (guess as it is not provided)\n",
    "* I will assume the missing values are due to the airlines not having any airplanes in the past. I will replace all the null-values to zero.\n",
    "\n",
    "**total:** *Quantity of total airplanes in operation from historic to current?* (guess as it is not provided)\n",
    "* I will assume 'current' plus 'historic' airlines equal to the 'total'. If both current and historic are zero, total will also be changed to zero.\n",
    "\n",
    "**orders:** Quantity of airplanes on order, from Wikipedia\n",
    "* I will assume that the missing values are due to the zero number of airplanes on order. I will replace all null-values to zero.\n",
    "\n",
    "**unit_cost:** Average unit cost of Aircraft Type\n",
    "* Since the missing values of the 'unit_cost' column is only 35. I will remove the rows associated with such values as it provides no signficant information.\n",
    "\n",
    "**current_total_cost:** Current quantity times Unit Cost\n",
    "* I will account for the current total cost estimates based on whether the current quantity and unit cost values exist. For the rest of the missing values, I will remove those as well. (I predict these rows will already be removed when I remove the unit_cost missing rows)\n",
    "\n",
    "**average_age:** Average age of \"Current airplanes by \"Aircraft Type\"\n",
    "* Since the average age of planes  cannot be zero just because there is no current airplanes in operation. I will replace the missing values with the \"average age\" of current airplanes by the aircraft types according to this dataset."
   ]
  },
  {
   "cell_type": "code",
   "execution_count": 411,
   "metadata": {},
   "outputs": [],
   "source": [
    "df['current'].fillna('0', inplace=True)\n",
    "df.drop('future',1,inplace=True)\n",
    "df['historic'].fillna('0', inplace=True)\n",
    "df['orders'].fillna('0', inplace=True)\n",
    "df.dropna(subset=['unit_cost'], inplace=True)\n",
    "df.dropna(subset=['current_total_cost'], inplace=True)\n"
   ]
  },
  {
   "cell_type": "code",
   "execution_count": 412,
   "metadata": {},
   "outputs": [
    {
     "name": "stderr",
     "output_type": "stream",
     "text": [
      "/Users/jameslee/anaconda3/lib/python3.6/site-packages/ipykernel_launcher.py:5: SettingWithCopyWarning: \n",
      "A value is trying to be set on a copy of a slice from a DataFrame.\n",
      "Try using .loc[row_indexer,col_indexer] = value instead\n",
      "\n",
      "See the caveats in the documentation: http://pandas.pydata.org/pandas-docs/stable/indexing.html#indexing-view-versus-copy\n",
      "  \"\"\"\n",
      "/Users/jameslee/anaconda3/lib/python3.6/site-packages/ipykernel_launcher.py:6: SettingWithCopyWarning: \n",
      "A value is trying to be set on a copy of a slice from a DataFrame.\n",
      "Try using .loc[row_indexer,col_indexer] = value instead\n",
      "\n",
      "See the caveats in the documentation: http://pandas.pydata.org/pandas-docs/stable/indexing.html#indexing-view-versus-copy\n",
      "  \n",
      "/Users/jameslee/anaconda3/lib/python3.6/site-packages/ipykernel_launcher.py:8: SettingWithCopyWarning: \n",
      "A value is trying to be set on a copy of a slice from a DataFrame.\n",
      "Try using .loc[row_indexer,col_indexer] = value instead\n",
      "\n",
      "See the caveats in the documentation: http://pandas.pydata.org/pandas-docs/stable/indexing.html#indexing-view-versus-copy\n",
      "  \n",
      "/Users/jameslee/anaconda3/lib/python3.6/site-packages/ipykernel_launcher.py:11: SettingWithCopyWarning: \n",
      "A value is trying to be set on a copy of a slice from a DataFrame\n",
      "\n",
      "See the caveats in the documentation: http://pandas.pydata.org/pandas-docs/stable/indexing.html#indexing-view-versus-copy\n",
      "  # This is added back by InteractiveShellApp.init_path()\n"
     ]
    }
   ],
   "source": [
    "total_nulls = df[df['total'].isnull()]\n",
    "# I created a separate dataframe consisting of all the values for the null rows in the 'total' column. \n",
    "\n",
    "# Using this mask, I added the values in the 'current' and 'historic' columns to get the 'total' values. \n",
    "total_nulls['current'] = total_nulls['current'].astype('int')\n",
    "total_nulls['historic'] = total_nulls['historic'].astype('int')\n",
    "\n",
    "total_nulls['total'] = total_nulls['current'] + total_nulls['historic']\n",
    "\n",
    "# I replaced the missing values in the 'total' column to the new values from above.\n",
    "df['total'][df['total'].isnull()] = total_nulls['total']"
   ]
  },
  {
   "cell_type": "markdown",
   "metadata": {},
   "source": [
    "* After removing/adjusting the missing or null values in the dataset, I only have the null-values of the average_age column left. I plan to leave this as it is for now. "
   ]
  },
  {
   "cell_type": "code",
   "execution_count": 413,
   "metadata": {},
   "outputs": [
    {
     "data": {
      "text/plain": [
       "parent_airline          0\n",
       "airline                 0\n",
       "aircraft_type           0\n",
       "current                 0\n",
       "historic                0\n",
       "total                   0\n",
       "orders                  0\n",
       "unit_cost               0\n",
       "current_total_cost      0\n",
       "average_age           738\n",
       "dtype: int64"
      ]
     },
     "execution_count": 413,
     "metadata": {},
     "output_type": "execute_result"
    }
   ],
   "source": [
    "df.isnull().sum()"
   ]
  },
  {
   "cell_type": "markdown",
   "metadata": {},
   "source": [
    "* Now that the dataset is cleaner, I will move onto the exploratory data analysis portion.\n",
    "* I will save the clean dataset onto the 'data' folder to resume where I left off. "
   ]
  },
  {
   "cell_type": "code",
   "execution_count": 414,
   "metadata": {},
   "outputs": [
    {
     "data": {
      "text/plain": [
       "(1547, 10)"
      ]
     },
     "execution_count": 414,
     "metadata": {},
     "output_type": "execute_result"
    }
   ],
   "source": [
    "df.shape"
   ]
  },
  {
   "cell_type": "code",
   "execution_count": 415,
   "metadata": {},
   "outputs": [],
   "source": [
    "df.to_csv('./data/fleet_clean.csv', index=None)"
   ]
  },
  {
   "cell_type": "markdown",
   "metadata": {},
   "source": [
    "# Please go to worksheet titled: 02_EDA"
   ]
  }
 ],
 "metadata": {
  "kernelspec": {
   "display_name": "Python 3",
   "language": "python",
   "name": "python3"
  },
  "language_info": {
   "codemirror_mode": {
    "name": "ipython",
    "version": 3
   },
   "file_extension": ".py",
   "mimetype": "text/x-python",
   "name": "python",
   "nbconvert_exporter": "python",
   "pygments_lexer": "ipython3",
   "version": "3.6.8"
  }
 },
 "nbformat": 4,
 "nbformat_minor": 2
}
